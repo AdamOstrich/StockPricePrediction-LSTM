{
 "cells": [
  {
   "cell_type": "code",
   "execution_count": 349,
   "id": "a10967f1",
   "metadata": {},
   "outputs": [],
   "source": [
    "# Stock priceces prediction using LSTM algorythm."
   ]
  },
  {
   "cell_type": "code",
   "execution_count": 322,
   "id": "5899cfcf",
   "metadata": {},
   "outputs": [],
   "source": [
    "import numpy as np\n",
    "import matplotlib.pyplot as plt\n",
    "import pandas as pd\n",
    "import datetime as dt "
   ]
  },
  {
   "cell_type": "code",
   "execution_count": 323,
   "id": "c50af401",
   "metadata": {},
   "outputs": [],
   "source": [
    "#no magic numbers\n",
    "training_range = 60\n",
    "testing_showing_range = 20"
   ]
  },
  {
   "cell_type": "code",
   "execution_count": 324,
   "id": "c7c52c13",
   "metadata": {},
   "outputs": [],
   "source": [
    "dataset = pd.read_csv(\"DATA/KGHM_Train.csv\")"
   ]
  },
  {
   "cell_type": "code",
   "execution_count": 325,
   "id": "8d83ff55",
   "metadata": {},
   "outputs": [
    {
     "data": {
      "text/html": [
       "<div>\n",
       "<style scoped>\n",
       "    .dataframe tbody tr th:only-of-type {\n",
       "        vertical-align: middle;\n",
       "    }\n",
       "\n",
       "    .dataframe tbody tr th {\n",
       "        vertical-align: top;\n",
       "    }\n",
       "\n",
       "    .dataframe thead th {\n",
       "        text-align: right;\n",
       "    }\n",
       "</style>\n",
       "<table border=\"1\" class=\"dataframe\">\n",
       "  <thead>\n",
       "    <tr style=\"text-align: right;\">\n",
       "      <th></th>\n",
       "      <th>Data</th>\n",
       "      <th>Open</th>\n",
       "      <th>Najwyzszy</th>\n",
       "      <th>Najnizszy</th>\n",
       "      <th>Zamkniecie</th>\n",
       "      <th>Wolumen</th>\n",
       "    </tr>\n",
       "  </thead>\n",
       "  <tbody>\n",
       "    <tr>\n",
       "      <th>0</th>\n",
       "      <td>2000-02-01</td>\n",
       "      <td>10.017</td>\n",
       "      <td>10.291</td>\n",
       "      <td>9.884</td>\n",
       "      <td>10.056</td>\n",
       "      <td>1360434</td>\n",
       "    </tr>\n",
       "    <tr>\n",
       "      <th>1</th>\n",
       "      <td>2000-02-02</td>\n",
       "      <td>10.017</td>\n",
       "      <td>10.088</td>\n",
       "      <td>9.884</td>\n",
       "      <td>10.056</td>\n",
       "      <td>949016</td>\n",
       "    </tr>\n",
       "    <tr>\n",
       "      <th>2</th>\n",
       "      <td>2000-02-03</td>\n",
       "      <td>10.056</td>\n",
       "      <td>10.530</td>\n",
       "      <td>10.056</td>\n",
       "      <td>10.291</td>\n",
       "      <td>1178595</td>\n",
       "    </tr>\n",
       "    <tr>\n",
       "      <th>3</th>\n",
       "      <td>2000-02-04</td>\n",
       "      <td>10.357</td>\n",
       "      <td>10.496</td>\n",
       "      <td>9.986</td>\n",
       "      <td>10.257</td>\n",
       "      <td>2025722</td>\n",
       "    </tr>\n",
       "    <tr>\n",
       "      <th>4</th>\n",
       "      <td>2000-02-07</td>\n",
       "      <td>10.189</td>\n",
       "      <td>10.189</td>\n",
       "      <td>9.954</td>\n",
       "      <td>10.088</td>\n",
       "      <td>946851</td>\n",
       "    </tr>\n",
       "  </tbody>\n",
       "</table>\n",
       "</div>"
      ],
      "text/plain": [
       "         Data    Open  Najwyzszy  Najnizszy  Zamkniecie  Wolumen\n",
       "0  2000-02-01  10.017     10.291      9.884      10.056  1360434\n",
       "1  2000-02-02  10.017     10.088      9.884      10.056   949016\n",
       "2  2000-02-03  10.056     10.530     10.056      10.291  1178595\n",
       "3  2000-02-04  10.357     10.496      9.986      10.257  2025722\n",
       "4  2000-02-07  10.189     10.189      9.954      10.088   946851"
      ]
     },
     "execution_count": 325,
     "metadata": {},
     "output_type": "execute_result"
    }
   ],
   "source": [
    "dataset.head()"
   ]
  },
  {
   "cell_type": "code",
   "execution_count": 326,
   "id": "ca5fcadc",
   "metadata": {},
   "outputs": [
    {
     "data": {
      "text/plain": [
       "Data          False\n",
       "Open          False\n",
       "Najwyzszy     False\n",
       "Najnizszy     False\n",
       "Zamkniecie    False\n",
       "Wolumen       False\n",
       "dtype: bool"
      ]
     },
     "execution_count": 326,
     "metadata": {},
     "output_type": "execute_result"
    }
   ],
   "source": [
    "dataset.isna().any()"
   ]
  },
  {
   "cell_type": "code",
   "execution_count": 327,
   "id": "102559a0",
   "metadata": {},
   "outputs": [
    {
     "name": "stdout",
     "output_type": "stream",
     "text": [
      "<class 'pandas.core.frame.DataFrame'>\n",
      "RangeIndex: 5236 entries, 0 to 5235\n",
      "Data columns (total 6 columns):\n",
      " #   Column      Non-Null Count  Dtype  \n",
      "---  ------      --------------  -----  \n",
      " 0   Data        5236 non-null   object \n",
      " 1   Open        5236 non-null   float64\n",
      " 2   Najwyzszy   5236 non-null   float64\n",
      " 3   Najnizszy   5236 non-null   float64\n",
      " 4   Zamkniecie  5236 non-null   float64\n",
      " 5   Wolumen     5236 non-null   int64  \n",
      "dtypes: float64(4), int64(1), object(1)\n",
      "memory usage: 245.6+ KB\n"
     ]
    }
   ],
   "source": [
    "dataset.info()"
   ]
  },
  {
   "cell_type": "code",
   "execution_count": 328,
   "id": "1301c5e0",
   "metadata": {},
   "outputs": [
    {
     "data": {
      "text/plain": [
       "<AxesSubplot:title={'center':'The open price'}>"
      ]
     },
     "execution_count": 328,
     "metadata": {},
     "output_type": "execute_result"
    },
    {
     "data": {
      "image/png": "[encoded data removed]",
      "text/plain": [
       "<Figure size 1080x360 with 1 Axes>"
      ]
     },
     "metadata": {
      "needs_background": "light"
     },
     "output_type": "display_data"
    }
   ],
   "source": [
    "dataset['Open'].plot(figsize=(15,5), title=\"The open price\")"
   ]
  },
  {
   "cell_type": "code",
   "execution_count": 329,
   "id": "717adc18",
   "metadata": {},
   "outputs": [
    {
     "data": {
      "text/plain": [
       "<AxesSubplot:title={'center':'rolling mean vs everyday data'}>"
      ]
     },
     "execution_count": 329,
     "metadata": {},
     "output_type": "execute_result"
    },
    {
     "data": {
      "image/png": "[encoded data removed]",
      "text/plain": [
       "<Figure size 1080x360 with 1 Axes>"
      ]
     },
     "metadata": {
      "needs_background": "light"
     },
     "output_type": "display_data"
    }
   ],
   "source": [
    "dataset.rolling(7).mean().head(20)\n",
    "dataset[\"Open\"].plot(figsize=(15,5), title=\"rolling mean vs everyday data\")\n",
    "dataset.rolling(window=7).mean()[\"Open\"].plot()"
   ]
  },
  {
   "cell_type": "code",
   "execution_count": 330,
   "id": "fcee6e18",
   "metadata": {},
   "outputs": [
    {
     "data": {
      "text/plain": [
       "<AxesSubplot:>"
      ]
     },
     "execution_count": 330,
     "metadata": {},
     "output_type": "execute_result"
    },
    {
     "data": {
      "image/png": "[encoded data removed]",
      "text/plain": [
       "<Figure size 1080x360 with 1 Axes>"
      ]
     },
     "metadata": {
      "needs_background": "light"
     },
     "output_type": "display_data"
    }
   ],
   "source": [
    "dataset[\"Open\"].expanding(min_periods=1).mean().plot(figsize=(15,5))"
   ]
  },
  {
   "cell_type": "code",
   "execution_count": 331,
   "id": "d023bd91",
   "metadata": {},
   "outputs": [],
   "source": [
    "training_set = dataset[\"Open\"]\n",
    "training_set = pd.DataFrame(training_set)"
   ]
  },
  {
   "cell_type": "code",
   "execution_count": 332,
   "id": "2a979776",
   "metadata": {},
   "outputs": [],
   "source": [
    "#2 Data Preprocessing"
   ]
  },
  {
   "cell_type": "code",
   "execution_count": 333,
   "id": "1b8c3199",
   "metadata": {},
   "outputs": [],
   "source": [
    "#Data cleaning\n",
    "from sklearn.preprocessing import MinMaxScaler\n",
    "sc = MinMaxScaler(feature_range = (0, 1))\n",
    "training_set_scaled = sc.fit_transform(training_set)"
   ]
  },
  {
   "cell_type": "code",
   "execution_count": 334,
   "id": "c6cb6606",
   "metadata": {},
   "outputs": [
    {
     "data": {
      "text/plain": [
       "array([0.03443845])"
      ]
     },
     "execution_count": 334,
     "metadata": {},
     "output_type": "execute_result"
    }
   ],
   "source": [
    "training_set_scaled[60]"
   ]
  },
  {
   "cell_type": "code",
   "execution_count": 335,
   "id": "a26cd889",
   "metadata": {},
   "outputs": [
    {
     "name": "stdout",
     "output_type": "stream",
     "text": [
      "5176\n",
      "(5176, 60)\n"
     ]
    },
    {
     "data": {
      "text/plain": [
       "(5176, 60, 1)"
      ]
     },
     "execution_count": 335,
     "metadata": {},
     "output_type": "execute_result"
    }
   ],
   "source": [
    "#now we will make a prediction for some day on base of priceses in last 60days\n",
    "\n",
    "X_train, Y_train = [], []\n",
    "#print(len(training_set))\n",
    "for i in range(training_range, len(training_set_scaled)):\n",
    "    X_train.append(training_set_scaled[i-training_range:i, 0])\n",
    "    Y_train.append(training_set_scaled[i, 0])\n",
    "print(len(X_train))\n",
    "X_train, Y_train = np.array(X_train), np.array(Y_train)\n",
    "print(X_train.shape)\n",
    "xtrain = np.reshape(X_train,(X_train.shape[0],X_train.shape[1],1))\n",
    "xtrain.shape"
   ]
  },
  {
   "cell_type": "code",
   "execution_count": 336,
   "id": "13fc7d95",
   "metadata": {},
   "outputs": [],
   "source": [
    "import os\n",
    "os.environ['TF_CPP_MIN_LOG_LEVEL'] = '2'"
   ]
  },
  {
   "cell_type": "code",
   "execution_count": 337,
   "id": "3984c708",
   "metadata": {},
   "outputs": [],
   "source": [
    "#3 Let a training NN begin\n",
    "from keras.models import Sequential\n",
    "from keras.layers import Dense\n",
    "from keras.layers import Dropout\n",
    "from keras.layers import LSTM\n",
    "\n",
    "regression = Sequential()"
   ]
  },
  {
   "cell_type": "code",
   "execution_count": 338,
   "id": "2d3ebe99",
   "metadata": {},
   "outputs": [
    {
     "name": "stdout",
     "output_type": "stream",
     "text": [
      "Epoch 1/100\n",
      "173/173 [==============================] - 23s 93ms/step - loss: 0.0077\n",
      "Epoch 2/100\n",
      "173/173 [==============================] - 16s 91ms/step - loss: 0.0024\n",
      "Epoch 3/100\n",
      "173/173 [==============================] - 16s 91ms/step - loss: 0.0022\n",
      "Epoch 4/100\n",
      "173/173 [==============================] - 16s 91ms/step - loss: 0.0017\n",
      "Epoch 5/100\n",
      "173/173 [==============================] - 16s 93ms/step - loss: 0.0016\n",
      "Epoch 6/100\n",
      "173/173 [==============================] - 15s 88ms/step - loss: 0.0015\n",
      "Epoch 7/100\n",
      "173/173 [==============================] - 16s 91ms/step - loss: 0.0014\n",
      "Epoch 8/100\n",
      "173/173 [==============================] - 15s 86ms/step - loss: 0.0013\n",
      "Epoch 9/100\n",
      "173/173 [==============================] - 15s 87ms/step - loss: 0.0013\n",
      "Epoch 10/100\n",
      "173/173 [==============================] - 16s 90ms/step - loss: 0.0012\n",
      "Epoch 11/100\n",
      "173/173 [==============================] - 15s 88ms/step - loss: 0.0012\n",
      "Epoch 12/100\n",
      "173/173 [==============================] - 15s 87ms/step - loss: 0.0011\n",
      "Epoch 13/100\n",
      "173/173 [==============================] - 15s 89ms/step - loss: 0.0010\n",
      "Epoch 14/100\n",
      "173/173 [==============================] - 15s 89ms/step - loss: 0.0010\n",
      "Epoch 15/100\n",
      "173/173 [==============================] - 15s 86ms/step - loss: 0.0010\n",
      "Epoch 16/100\n",
      "173/173 [==============================] - 17s 100ms/step - loss: 9.4517e-04\n",
      "Epoch 17/100\n",
      "173/173 [==============================] - 17s 99ms/step - loss: 9.8820e-04\n",
      "Epoch 18/100\n",
      "173/173 [==============================] - 17s 98ms/step - loss: 8.9568e-04\n",
      "Epoch 19/100\n",
      "173/173 [==============================] - 17s 98ms/step - loss: 8.7708e-04\n",
      "Epoch 20/100\n",
      "173/173 [==============================] - 17s 99ms/step - loss: 8.2341e-04\n",
      "Epoch 21/100\n",
      "173/173 [==============================] - 17s 98ms/step - loss: 8.9871e-04\n",
      "Epoch 22/100\n",
      "173/173 [==============================] - 17s 99ms/step - loss: 8.6386e-04\n",
      "Epoch 23/100\n",
      "173/173 [==============================] - 17s 98ms/step - loss: 8.2516e-04\n",
      "Epoch 24/100\n",
      "173/173 [==============================] - 17s 98ms/step - loss: 8.2115e-04\n",
      "Epoch 25/100\n",
      "173/173 [==============================] - 17s 98ms/step - loss: 7.5774e-04\n",
      "Epoch 26/100\n",
      "173/173 [==============================] - 17s 97ms/step - loss: 8.0429e-04\n",
      "Epoch 27/100\n",
      "173/173 [==============================] - 17s 97ms/step - loss: 8.2005e-04\n",
      "Epoch 28/100\n",
      "173/173 [==============================] - 17s 97ms/step - loss: 8.0423e-04\n",
      "Epoch 29/100\n",
      "173/173 [==============================] - 17s 97ms/step - loss: 7.0869e-04\n",
      "Epoch 30/100\n",
      "173/173 [==============================] - 17s 97ms/step - loss: 8.3347e-04\n",
      "Epoch 31/100\n",
      "173/173 [==============================] - 17s 98ms/step - loss: 7.6665e-04\n",
      "Epoch 32/100\n",
      "173/173 [==============================] - 17s 99ms/step - loss: 7.1280e-04\n",
      "Epoch 33/100\n",
      "173/173 [==============================] - 17s 98ms/step - loss: 7.4770e-04\n",
      "Epoch 34/100\n",
      "173/173 [==============================] - 17s 99ms/step - loss: 6.7139e-04\n",
      "Epoch 35/100\n",
      "173/173 [==============================] - 17s 97ms/step - loss: 7.5683e-04\n",
      "Epoch 36/100\n",
      "173/173 [==============================] - 17s 97ms/step - loss: 6.7799e-04\n",
      "Epoch 37/100\n",
      "173/173 [==============================] - 17s 97ms/step - loss: 7.7150e-04\n",
      "Epoch 38/100\n",
      "173/173 [==============================] - 17s 96ms/step - loss: 6.8610e-04\n",
      "Epoch 39/100\n",
      "173/173 [==============================] - 17s 97ms/step - loss: 7.4629e-04\n",
      "Epoch 40/100\n",
      "173/173 [==============================] - 17s 97ms/step - loss: 6.8267e-04\n",
      "Epoch 41/100\n",
      "173/173 [==============================] - 17s 97ms/step - loss: 6.6803e-04\n",
      "Epoch 42/100\n",
      "173/173 [==============================] - 17s 96ms/step - loss: 6.4359e-04\n",
      "Epoch 43/100\n",
      "173/173 [==============================] - 17s 98ms/step - loss: 6.9423e-04\n",
      "Epoch 44/100\n",
      "173/173 [==============================] - 17s 97ms/step - loss: 6.6222e-04\n",
      "Epoch 45/100\n",
      "173/173 [==============================] - 17s 95ms/step - loss: 6.3639e-04\n",
      "Epoch 46/100\n",
      "173/173 [==============================] - 17s 98ms/step - loss: 6.8120e-04\n",
      "Epoch 47/100\n",
      "173/173 [==============================] - 17s 96ms/step - loss: 7.3146e-04\n",
      "Epoch 48/100\n",
      "173/173 [==============================] - 17s 97ms/step - loss: 6.4772e-04\n",
      "Epoch 49/100\n",
      "173/173 [==============================] - 17s 97ms/step - loss: 6.7481e-04\n",
      "Epoch 50/100\n",
      "173/173 [==============================] - 17s 97ms/step - loss: 6.3221e-04\n",
      "Epoch 51/100\n",
      "173/173 [==============================] - 17s 98ms/step - loss: 6.4198e-04\n",
      "Epoch 52/100\n",
      "173/173 [==============================] - 17s 98ms/step - loss: 5.9333e-04\n",
      "Epoch 53/100\n",
      "173/173 [==============================] - 17s 99ms/step - loss: 6.3185e-04\n",
      "Epoch 54/100\n",
      "173/173 [==============================] - 17s 99ms/step - loss: 6.6220e-04\n",
      "Epoch 55/100\n",
      "173/173 [==============================] - 17s 97ms/step - loss: 6.5991e-04\n",
      "Epoch 56/100\n",
      "173/173 [==============================] - 17s 97ms/step - loss: 6.5460e-04\n",
      "Epoch 57/100\n",
      "173/173 [==============================] - 17s 98ms/step - loss: 5.9565e-04\n",
      "Epoch 58/100\n",
      "173/173 [==============================] - 17s 98ms/step - loss: 6.1837e-04\n",
      "Epoch 59/100\n",
      "173/173 [==============================] - 17s 96ms/step - loss: 6.5375e-04\n",
      "Epoch 60/100\n",
      "173/173 [==============================] - 17s 97ms/step - loss: 6.3059e-04\n",
      "Epoch 61/100\n",
      "173/173 [==============================] - 17s 98ms/step - loss: 6.2284e-04\n",
      "Epoch 62/100\n",
      "173/173 [==============================] - 17s 98ms/step - loss: 6.1791e-04\n",
      "Epoch 63/100\n",
      "173/173 [==============================] - 17s 98ms/step - loss: 5.8997e-04\n",
      "Epoch 64/100\n",
      "173/173 [==============================] - 17s 101ms/step - loss: 6.3813e-04\n",
      "Epoch 65/100\n",
      "173/173 [==============================] - 17s 96ms/step - loss: 6.7984e-04\n",
      "Epoch 66/100\n",
      "173/173 [==============================] - 17s 97ms/step - loss: 5.8316e-04\n",
      "Epoch 67/100\n",
      "173/173 [==============================] - 17s 97ms/step - loss: 5.9657e-04\n",
      "Epoch 68/100\n",
      "173/173 [==============================] - 17s 99ms/step - loss: 5.8457e-04\n",
      "Epoch 69/100\n",
      "173/173 [==============================] - 17s 96ms/step - loss: 5.7862e-04\n",
      "Epoch 70/100\n",
      "173/173 [==============================] - 17s 97ms/step - loss: 5.9854e-04\n",
      "Epoch 71/100\n",
      "173/173 [==============================] - 17s 97ms/step - loss: 5.7657e-04\n",
      "Epoch 72/100\n",
      "173/173 [==============================] - 17s 98ms/step - loss: 6.1931e-04\n",
      "Epoch 73/100\n",
      "173/173 [==============================] - 17s 98ms/step - loss: 6.2245e-04\n",
      "Epoch 74/100\n",
      "173/173 [==============================] - 17s 99ms/step - loss: 6.0006e-04\n",
      "Epoch 75/100\n",
      "173/173 [==============================] - 17s 98ms/step - loss: 5.6002e-04\n",
      "Epoch 76/100\n",
      "173/173 [==============================] - 17s 97ms/step - loss: 5.5894e-04\n",
      "Epoch 77/100\n",
      "173/173 [==============================] - 17s 96ms/step - loss: 5.6401e-04\n",
      "Epoch 78/100\n",
      "173/173 [==============================] - 17s 97ms/step - loss: 5.6562e-04\n",
      "Epoch 79/100\n",
      "173/173 [==============================] - 17s 99ms/step - loss: 5.7046e-04\n",
      "Epoch 80/100\n",
      "173/173 [==============================] - 17s 97ms/step - loss: 5.5374e-04\n",
      "Epoch 81/100\n",
      "173/173 [==============================] - 17s 99ms/step - loss: 5.7394e-04\n",
      "Epoch 82/100\n",
      "173/173 [==============================] - 17s 101ms/step - loss: 5.3295e-04\n",
      "Epoch 83/100\n",
      "173/173 [==============================] - 17s 98ms/step - loss: 5.7710e-04\n",
      "Epoch 84/100\n",
      "173/173 [==============================] - 17s 98ms/step - loss: 5.2138e-04\n",
      "Epoch 85/100\n",
      "173/173 [==============================] - 18s 104ms/step - loss: 5.4174e-04\n",
      "Epoch 86/100\n",
      "173/173 [==============================] - 17s 98ms/step - loss: 5.8049e-04\n",
      "Epoch 87/100\n",
      "173/173 [==============================] - 17s 98ms/step - loss: 5.2239e-04\n",
      "Epoch 88/100\n",
      "173/173 [==============================] - 17s 98ms/step - loss: 5.6535e-04\n",
      "Epoch 89/100\n",
      "173/173 [==============================] - 17s 98ms/step - loss: 5.2401e-04\n",
      "Epoch 90/100\n",
      "173/173 [==============================] - 17s 97ms/step - loss: 5.3182e-04\n",
      "Epoch 91/100\n",
      "173/173 [==============================] - 17s 98ms/step - loss: 5.2925e-04\n",
      "Epoch 92/100\n",
      "173/173 [==============================] - 17s 98ms/step - loss: 5.7487e-04\n",
      "Epoch 93/100\n"
     ]
    },
    {
     "name": "stdout",
     "output_type": "stream",
     "text": [
      "173/173 [==============================] - 17s 98ms/step - loss: 5.6497e-04\n",
      "Epoch 94/100\n",
      "173/173 [==============================] - 17s 98ms/step - loss: 5.3999e-04\n",
      "Epoch 95/100\n",
      "173/173 [==============================] - 17s 97ms/step - loss: 5.5387e-04\n",
      "Epoch 96/100\n",
      "173/173 [==============================] - 17s 97ms/step - loss: 5.2610e-04\n",
      "Epoch 97/100\n",
      "173/173 [==============================] - 17s 99ms/step - loss: 5.9034e-04\n",
      "Epoch 98/100\n",
      "173/173 [==============================] - 17s 96ms/step - loss: 4.9386e-04\n",
      "Epoch 99/100\n",
      "173/173 [==============================] - 17s 99ms/step - loss: 5.7909e-04\n",
      "Epoch 100/100\n",
      "173/173 [==============================] - 17s 98ms/step - loss: 5.1882e-04\n"
     ]
    },
    {
     "data": {
      "text/plain": [
       "<keras.callbacks.History at 0x7f493f767580>"
      ]
     },
     "execution_count": 338,
     "metadata": {},
     "output_type": "execute_result"
    }
   ],
   "source": [
    "#making layers\n",
    "\n",
    "regression.add(LSTM(units = 50, return_sequences = True, kernel_initializer='glorot_uniform', input_shape = (X_train.shape[1], 1)))\n",
    "regression.add(Dropout(0.2))\n",
    "\n",
    "regression.add(LSTM(units = 50, kernel_initializer='glorot_uniform', return_sequences = True))\n",
    "regression.add(Dropout(0.2))\n",
    "\n",
    "regression.add(LSTM(units = 50, kernel_initializer='glorot_uniform', return_sequences = True))\n",
    "regression.add(Dropout(0.2))\n",
    "\n",
    "regression.add(LSTM(units = 50, kernel_initializer='glorot_uniform'))\n",
    "regression.add(Dropout(0.2))\n",
    "\n",
    "regression.add(Dense(units = 1))\n",
    "\n",
    "regression.compile(optimizer = \"adam\", loss = \"mean_squared_error\")\n",
    "\n",
    "regression.fit(X_train, Y_train, epochs = 100, batch_size = 30)\n",
    "\n",
    "#epoch = frame of time\n",
    "#batch_size = number of examples utilized in a single iteration"
   ]
  },
  {
   "cell_type": "code",
   "execution_count": 344,
   "id": "a524638f",
   "metadata": {},
   "outputs": [],
   "source": [
    "dataset_test = pd.read_csv(\"DATA/KGHM_Test.csv\")\n",
    "real_stock_price = dataset_test.iloc[:, 1:2].values\n",
    "test_set = dataset_test[\"Open\"]\n",
    "test_set = pd.DataFrame(test_set)"
   ]
  },
  {
   "cell_type": "code",
   "execution_count": 345,
   "id": "51fc8dce",
   "metadata": {},
   "outputs": [
    {
     "name": "stdout",
     "output_type": "stream",
     "text": [
      "[[0.9555274 ]\n",
      " [0.95872676]\n",
      " [0.9904841 ]\n",
      " [1.0116996 ]\n",
      " [1.0566705 ]\n",
      " [1.0245715 ]\n",
      " [1.040688  ]\n",
      " [1.0507854 ]\n",
      " [1.0279024 ]\n",
      " [1.0420731 ]\n",
      " [1.0201998 ]\n",
      " [1.0350744 ]\n",
      " [1.0150211 ]\n",
      " [1.0293871 ]\n",
      " [0.9916482 ]\n",
      " [0.99193406]\n",
      " [0.98647964]\n",
      " [0.98922133]\n",
      " [0.88766885]\n",
      " [0.96769905]]\n"
     ]
    },
    {
     "name": "stderr",
     "output_type": "stream",
     "text": [
      "/home/adamostrich/.local/lib/python3.8/site-packages/sklearn/base.py:445: UserWarning: X does not have valid feature names, but MinMaxScaler was fitted with feature names\n",
      "  warnings.warn(\n"
     ]
    }
   ],
   "source": [
    "#5 Visualization\n",
    "\n",
    "dataset_total = pd.concat((dataset[\"Open\"], dataset_test[\"Open\"]), axis=0)\n",
    "inputs = dataset_total[len(dataset_total) - len(dataset_test) - training_range:].values\n",
    "inputs = inputs.reshape(-1, 1)\n",
    "inputs = sc.transform(inputs)\n",
    "\n",
    "X_test = []\n",
    "for i in range(training_range, training_range+testing_showing_range):\n",
    "    X_test.append(inputs[i-training_range:i, 0])\n",
    "X_test = np.array(X_test)\n",
    "#xtest= np.reshape(xtest,(xtest.shape[0],xtest.shape[1],1))\n",
    "X_test = np.reshape(X_test, (X_test.shape[0], X_test.shape[1],1))\n",
    "predicted_stock_price = regression.predict(X_test)\n",
    "\n",
    "predicted_stock_price = predicted_stock_price.reshape(predicted_stock_price.shape[0],predicted_stock_price.shape[1])\n",
    "print(predicted_stock_price)\n"
   ]
  },
  {
   "cell_type": "code",
   "execution_count": 346,
   "id": "298971e5",
   "metadata": {},
   "outputs": [],
   "source": [
    "predicted_stock_price = sc.inverse_transform(predicted_stock_price)"
   ]
  },
  {
   "cell_type": "code",
   "execution_count": 347,
   "id": "1980b137",
   "metadata": {},
   "outputs": [
    {
     "name": "stdout",
     "output_type": "stream",
     "text": [
      "[[179.2383 ]\n",
      " [179.82689]\n",
      " [185.66934]\n",
      " [189.57239]\n",
      " [197.84578]\n",
      " [191.94046]\n",
      " [194.90544]\n",
      " [196.76308]\n",
      " [192.55324]\n",
      " [195.16026]\n",
      " [191.13618]\n",
      " [193.87268]\n",
      " [190.18346]\n",
      " [192.8264 ]\n",
      " [185.8835 ]\n",
      " [185.9361 ]\n",
      " [184.93263]\n",
      " [185.43703]\n",
      " [166.75424]\n",
      " [181.47754]]\n"
     ]
    }
   ],
   "source": [
    "#predicted_stock_price = pd.DataFrame(predicted_stock_price)\n",
    "print(predicted_stock_price)\n",
    "#print(predicted_stock_price)"
   ]
  },
  {
   "cell_type": "code",
   "execution_count": 348,
   "id": "a747abd7",
   "metadata": {
    "scrolled": false
   },
   "outputs": [
    {
     "data": {
      "text/plain": [
       "<matplotlib.legend.Legend at 0x7f493d186dc0>"
      ]
     },
     "execution_count": 348,
     "metadata": {},
     "output_type": "execute_result"
    },
    {
     "data": {
      "image/png": "[encoded data removed]",
      "text/plain": [
       "<Figure size 1080x360 with 1 Axes>"
      ]
     },
     "metadata": {
      "needs_background": "light"
     },
     "output_type": "display_data"
    }
   ],
   "source": [
    "xs = np.arange(0, testing_showing_range, 1)\n",
    "plt.figure(figsize=(15,5))\n",
    "#plt.plot(xs, training_set[training_range:training_range+testing_showing_range],'red',label='Real Prices')\n",
    "plt.plot(xs, test_set, 'red',label='Real Prices')\n",
    "plt.plot(predicted_stock_price,'blue',label='Predicted Prices')\n",
    "plt.xlabel('Time')\n",
    "plt.ylabel('Prices')\n",
    "plt.title('Real and Predicted Prices')\n",
    "plt.legend(loc='best')"
   ]
  },
  {
   "cell_type": "code",
   "execution_count": null,
   "id": "7073566f",
   "metadata": {
    "scrolled": true
   },
   "outputs": [],
   "source": []
  },
  {
   "cell_type": "code",
   "execution_count": null,
   "id": "88afde08",
   "metadata": {},
   "outputs": [],
   "source": []
  },
  {
   "cell_type": "code",
   "execution_count": null,
   "id": "aae2e9c3",
   "metadata": {},
   "outputs": [],
   "source": []
  },
  {
   "cell_type": "code",
   "execution_count": null,
   "id": "4017778d",
   "metadata": {},
   "outputs": [],
   "source": []
  },
  {
   "cell_type": "code",
   "execution_count": null,
   "id": "5fbdc0c2",
   "metadata": {},
   "outputs": [],
   "source": []
  },
  {
   "cell_type": "code",
   "execution_count": null,
   "id": "5c0456c3",
   "metadata": {},
   "outputs": [],
   "source": []
  }
 ],
 "metadata": {
  "kernelspec": {
   "display_name": "Python 3 (ipykernel)",
   "language": "python",
   "name": "python3"
  },
  "language_info": {
   "codemirror_mode": {
    "name": "ipython",
    "version": 3
   },
   "file_extension": ".py",
   "mimetype": "text/x-python",
   "name": "python",
   "nbconvert_exporter": "python",
   "pygments_lexer": "ipython3",
   "version": "3.8.10"
  }
 },
 "nbformat": 4,
 "nbformat_minor": 5
}
